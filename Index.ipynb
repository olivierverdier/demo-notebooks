{
 "cells": [
  {
   "cell_type": "markdown",
   "metadata": {},
   "source": [
    "<div style=\"float:right\"><img width=\"64\" src=\"http://www.uib.no/sites/w3.uib.no/files/styles/content_sidebar/public/media/hib-logo-ny.jpg\"/></div>\n",
    "# Python eksempel"
   ]
  },
  {
   "cell_type": "markdown",
   "metadata": {},
   "source": [
    "* [PageRank](./PageRank.ipynb)\n",
    "* [Eksponential funksjon](./Eksponential funksjon.ipynb)\n",
    "* [Newton](./Newton.ipynb)\n",
    "* [Kvadratur](./Quadrature.ipynb)\n",
    "* [Rotasjon](./Rotasjon.ipynb)\n",
    "* [Julia mengde](./Julia set.ipynb)"
   ]
  }
 ],
 "metadata": {
  "kernelspec": {
   "display_name": "Python 3",
   "language": "python",
   "name": "python3"
  },
  "language_info": {
   "codemirror_mode": {
    "name": "ipython",
    "version": 3
   },
   "file_extension": ".py",
   "mimetype": "text/x-python",
   "name": "python",
   "nbconvert_exporter": "python",
   "pygments_lexer": "ipython3",
   "version": "3.4.3"
  }
 },
 "nbformat": 4,
 "nbformat_minor": 0
}
