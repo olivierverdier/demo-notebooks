{
 "cells": [
  {
   "cell_type": "code",
   "execution_count": 1,
   "metadata": {
    "collapsed": false
   },
   "outputs": [
    {
     "name": "stdout",
     "output_type": "stream",
     "text": [
      "Using matplotlib backend: MacOSX\n",
      "Populating the interactive namespace from numpy and matplotlib\n"
     ]
    }
   ],
   "source": [
    "%pylab\n",
    "%matplotlib inline"
   ]
  },
  {
   "cell_type": "markdown",
   "metadata": {},
   "source": [
    "Metoden som brukes for å finne en egenvektor er *potensmetoden*.\n",
    "\n",
    "Eksempelmatrisen til PageRank-eksempelet, se 13.3 i kompendiet"
   ]
  },
  {
   "cell_type": "code",
   "execution_count": 2,
   "metadata": {
    "collapsed": true
   },
   "outputs": [],
   "source": [
    "A1 = array([\n",
    "    [0, 1, 0, 0,   0,   0 ],\n",
    "    [1, 0, 0, 0,   0,   1 ],\n",
    "    [0, 0, 0, 1/3, 1/2, 0 ],\n",
    "    [0, 0, 0, 0,   0,   0 ],\n",
    "    [0, 0, 0, 1/3, 0,   0 ],\n",
    "    [0, 0, 1, 1/3, 1/2, 0 ] ])\n",
    "brus = 1/6*array([\n",
    "    [1,1,1,1,1,1],\n",
    "    [1,1,1,1,1,1],\n",
    "    [1,1,1,1,1,1],\n",
    "    [1,1,1,1,1,1],\n",
    "    [1,1,1,1,1,1],\n",
    "    [1,1,1,1,1,1]])\n",
    "A = .85*A1 + .15*brus"
   ]
  },
  {
   "cell_type": "code",
   "execution_count": 3,
   "metadata": {
    "collapsed": false
   },
   "outputs": [
    {
     "data": {
      "image/png": "[encoded data removed]",
      "text/plain": [
       "<matplotlib.figure.Figure at 0x10674b4a8>"
      ]
     },
     "metadata": {},
     "output_type": "display_data"
    }
   ],
   "source": [
    "import networkx\n",
    "G = networkx.from_numpy_matrix(A1.T, create_using=networkx.MultiDiGraph())\n",
    "networkx.draw_networkx(G)"
   ]
  },
  {
   "cell_type": "code",
   "execution_count": 4,
   "metadata": {
    "collapsed": false
   },
   "outputs": [],
   "source": [
    "feil = 0.0001\n",
    "x = rand(6) # tilfeldig valgt vektor x\n",
    "x = x/norm(x) # nå har x lengde 1\n",
    "\n",
    "for i in range(200):\n",
    "    Ax = dot(A,x) # fordi vi trenger å huske to vektorer\n",
    "    Ax = Ax/norm(Ax) # lengde 1 igjen\n",
    "    if norm(Ax-x) < feil: # hvis vi er nær nok en egenvektor\n",
    "        break\n",
    "    x = Ax"
   ]
  },
  {
   "cell_type": "markdown",
   "metadata": {},
   "source": [
    "Nå er `x` en egenvektor (omtrent)."
   ]
  },
  {
   "cell_type": "code",
   "execution_count": 5,
   "metadata": {
    "collapsed": false
   },
   "outputs": [],
   "source": [
    "x = x/sum(x)\n",
    "# nå representerer verdiene i x sannsynligheter.\n",
    "# Det er disse tallene pagerank bruker for å rangere nettsidene,\n",
    "# fra størst til minst verdi."
   ]
  },
  {
   "cell_type": "code",
   "execution_count": 6,
   "metadata": {
    "collapsed": false
   },
   "outputs": [
    {
     "data": {
      "text/plain": [
       "<Container object of 6 artists>"
      ]
     },
     "execution_count": 6,
     "metadata": {},
     "output_type": "execute_result"
    },
    {
     "data": {
      "image/png": "[encoded data removed]",
      "text/plain": [
       "<matplotlib.figure.Figure at 0x10b500908>"
      ]
     },
     "metadata": {},
     "output_type": "display_data"
    }
   ],
   "source": [
    "bar(arange(len(x)),x)"
   ]
  }
 ],
 "metadata": {
  "kernelspec": {
   "display_name": "Python 3",
   "language": "python",
   "name": "python3"
  },
  "language_info": {
   "codemirror_mode": {
    "name": "ipython",
    "version": 3
   },
   "file_extension": ".py",
   "mimetype": "text/x-python",
   "name": "python",
   "nbconvert_exporter": "python",
   "pygments_lexer": "ipython3",
   "version": "3.4.3"
  }
 },
 "nbformat": 4,
 "nbformat_minor": 0
}
