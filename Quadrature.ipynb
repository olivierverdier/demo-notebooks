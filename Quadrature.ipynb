{
 "cells": [
  {
   "cell_type": "code",
   "execution_count": 1,
   "metadata": {
    "collapsed": false
   },
   "outputs": [
    {
     "name": "stdout",
     "output_type": "stream",
     "text": [
      "Using matplotlib backend: MacOSX\n",
      "Populating the interactive namespace from numpy and matplotlib\n"
     ]
    }
   ],
   "source": [
    "%pylab\n",
    "%matplotlib inline"
   ]
  },
  {
   "cell_type": "markdown",
   "metadata": {},
   "source": [
    "### Trapes"
   ]
  },
  {
   "cell_type": "code",
   "execution_count": 2,
   "metadata": {
    "collapsed": false
   },
   "outputs": [
    {
     "name": "stdout",
     "output_type": "stream",
     "text": [
      "0.420984930146\n"
     ]
    }
   ],
   "source": [
    "n=4 #velg antall delintervaler\n",
    "a=0\n",
    "b=1\n",
    "Deltax=(b-a)/n\n",
    "integralet=exp(-a**2) #her skriver vi f(a)\n",
    "for x in arange(a, b, n):\n",
    "    integralet=integralet+2*(exp(-x**2))#her skriver vi integralet + 2*f(x)\n",
    "\n",
    "integralet=integralet + exp(-b**2)#her skriver vi integralet + f(b)\n",
    "integralet=Deltax*integralet/2 #Gange med Delta x og delt på 2\n",
    "print(integralet)"
   ]
  },
  {
   "cell_type": "markdown",
   "metadata": {},
   "source": [
    "### Riemann sum"
   ]
  },
  {
   "cell_type": "markdown",
   "metadata": {},
   "source": [
    "Riemann sum for $f(x)=x^2$ i $[1,2]$:"
   ]
  },
  {
   "cell_type": "code",
   "execution_count": 3,
   "metadata": {
    "collapsed": false
   },
   "outputs": [
    {
     "name": "stdout",
     "output_type": "stream",
     "text": [
      "0.5\n"
     ]
    }
   ],
   "source": [
    "n=4 #velg antall delintervaler\n",
    "a=1\n",
    "b=2\n",
    "Deltax=(b-a)/n\n",
    "integralet=a**2#her skriver vi f(a)\n",
    "for x in arange(a, b, n):\n",
    "    integralet=integralet+x**2#her skriver vi integralet + f(x)\n",
    "\n",
    "integralet=Deltax*integralet #Gange med Delta x \n",
    "print(integralet)"
   ]
  },
  {
   "cell_type": "code",
   "execution_count": null,
   "metadata": {
    "collapsed": true
   },
   "outputs": [],
   "source": []
  }
 ],
 "metadata": {
  "kernelspec": {
   "display_name": "Python 3",
   "language": "python",
   "name": "python3"
  },
  "language_info": {
   "codemirror_mode": {
    "name": "ipython",
    "version": 3
   },
   "file_extension": ".py",
   "mimetype": "text/x-python",
   "name": "python",
   "nbconvert_exporter": "python",
   "pygments_lexer": "ipython3",
   "version": "3.4.3"
  }
 },
 "nbformat": 4,
 "nbformat_minor": 0
}
